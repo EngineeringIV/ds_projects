{
 "cells": [
  {
   "cell_type": "code",
   "execution_count": 1,
   "id": "5766749a",
   "metadata": {},
   "outputs": [
    {
     "name": "stderr",
     "output_type": "stream",
     "text": [
      "ERROR: pip's dependency resolver does not currently take into account all the packages that are installed. This behaviour is the source of the following dependency conflicts.\n",
      "conda-repo-cli 1.0.4 requires pathlib, which is not installed.\n",
      "anaconda-project 0.9.1 requires ruamel-yaml, which is not installed.\n"
     ]
    },
    {
     "name": "stdout",
     "output_type": "stream",
     "text": [
      "Collecting selenium\n",
      "  Downloading selenium-4.8.2-py3-none-any.whl (6.9 MB)\n",
      "Collecting trio-websocket~=0.9\n",
      "  Using cached trio_websocket-0.9.2-py3-none-any.whl (16 kB)\n",
      "Collecting trio~=0.17\n",
      "  Downloading trio-0.22.0-py3-none-any.whl (384 kB)\n",
      "Collecting certifi>=2021.10.8\n",
      "  Downloading certifi-2022.12.7-py3-none-any.whl (155 kB)\n",
      "Requirement already satisfied: urllib3[socks]~=1.26 in c:\\users\\yuxuanli\\anaconda3\\lib\\site-packages (from selenium) (1.26.4)\n",
      "Requirement already satisfied: sortedcontainers in c:\\users\\yuxuanli\\anaconda3\\lib\\site-packages (from trio~=0.17->selenium) (2.3.0)\n",
      "Collecting exceptiongroup>=1.0.0rc9\n",
      "  Downloading exceptiongroup-1.1.0-py3-none-any.whl (14 kB)\n",
      "Requirement already satisfied: cffi>=1.14 in c:\\users\\yuxuanli\\anaconda3\\lib\\site-packages (from trio~=0.17->selenium) (1.14.5)\n",
      "Collecting outcome\n",
      "  Downloading outcome-1.2.0-py2.py3-none-any.whl (9.7 kB)\n",
      "Requirement already satisfied: sniffio in c:\\users\\yuxuanli\\anaconda3\\lib\\site-packages (from trio~=0.17->selenium) (1.2.0)\n",
      "Requirement already satisfied: idna in c:\\users\\yuxuanli\\anaconda3\\lib\\site-packages (from trio~=0.17->selenium) (2.10)\n",
      "Requirement already satisfied: attrs>=19.2.0 in c:\\users\\yuxuanli\\anaconda3\\lib\\site-packages (from trio~=0.17->selenium) (20.3.0)\n",
      "Requirement already satisfied: async-generator>=1.9 in c:\\users\\yuxuanli\\anaconda3\\lib\\site-packages (from trio~=0.17->selenium) (1.10)\n",
      "Requirement already satisfied: pycparser in c:\\users\\yuxuanli\\anaconda3\\lib\\site-packages (from cffi>=1.14->trio~=0.17->selenium) (2.20)\n",
      "Collecting wsproto>=0.14\n",
      "  Downloading wsproto-1.2.0-py3-none-any.whl (24 kB)\n",
      "Requirement already satisfied: PySocks!=1.5.7,<2.0,>=1.5.6 in c:\\users\\yuxuanli\\anaconda3\\lib\\site-packages (from urllib3[socks]~=1.26->selenium) (1.7.1)\n",
      "Collecting h11<1,>=0.9.0\n",
      "  Downloading h11-0.14.0-py3-none-any.whl (58 kB)\n",
      "Installing collected packages: outcome, h11, exceptiongroup, wsproto, trio, trio-websocket, certifi, selenium\n",
      "  Attempting uninstall: certifi\n",
      "    Found existing installation: certifi 2020.12.5\n",
      "    Uninstalling certifi-2020.12.5:\n",
      "      Successfully uninstalled certifi-2020.12.5\n",
      "Successfully installed certifi-2022.12.7 exceptiongroup-1.1.0 h11-0.14.0 outcome-1.2.0 selenium-4.8.2 trio-0.22.0 trio-websocket-0.9.2 wsproto-1.2.0\n"
     ]
    }
   ],
   "source": [
    "!pip install selenium"
   ]
  },
  {
   "cell_type": "code",
   "execution_count": 3,
   "id": "0cba340d",
   "metadata": {},
   "outputs": [
    {
     "name": "stdout",
     "output_type": "stream",
     "text": [
      "Collecting webdriver-manager\n",
      "  Downloading webdriver_manager-3.8.5-py2.py3-none-any.whl (27 kB)\n",
      "Requirement already satisfied: tqdm in c:\\users\\yuxuanli\\anaconda3\\lib\\site-packages (from webdriver-manager) (4.59.0)\n",
      "Requirement already satisfied: packaging in c:\\users\\yuxuanli\\anaconda3\\lib\\site-packages (from webdriver-manager) (20.9)\n",
      "Collecting python-dotenv\n",
      "  Downloading python_dotenv-1.0.0-py3-none-any.whl (19 kB)\n",
      "Requirement already satisfied: requests in c:\\users\\yuxuanli\\anaconda3\\lib\\site-packages (from webdriver-manager) (2.25.1)\n",
      "Requirement already satisfied: pyparsing>=2.0.2 in c:\\users\\yuxuanli\\anaconda3\\lib\\site-packages (from packaging->webdriver-manager) (2.4.7)\n",
      "Requirement already satisfied: idna<3,>=2.5 in c:\\users\\yuxuanli\\anaconda3\\lib\\site-packages (from requests->webdriver-manager) (2.10)\n",
      "Requirement already satisfied: certifi>=2017.4.17 in c:\\users\\yuxuanli\\anaconda3\\lib\\site-packages (from requests->webdriver-manager) (2022.12.7)\n",
      "Requirement already satisfied: urllib3<1.27,>=1.21.1 in c:\\users\\yuxuanli\\anaconda3\\lib\\site-packages (from requests->webdriver-manager) (1.26.4)\n",
      "Requirement already satisfied: chardet<5,>=3.0.2 in c:\\users\\yuxuanli\\anaconda3\\lib\\site-packages (from requests->webdriver-manager) (4.0.0)\n",
      "Installing collected packages: python-dotenv, webdriver-manager\n",
      "Successfully installed python-dotenv-1.0.0 webdriver-manager-3.8.5\n"
     ]
    }
   ],
   "source": [
    "!pip install webdriver-manager"
   ]
  },
  {
   "cell_type": "code",
   "execution_count": 4,
   "id": "4c206757",
   "metadata": {},
   "outputs": [],
   "source": [
    "from selenium import webdriver\n",
    "from selenium.webdriver.support.ui import WebDriverWait\n",
    "from selenium.webdriver.common.by import By\n",
    "from selenium.common.exceptions import NoSuchElementException\n",
    "import time\n",
    "import csv"
   ]
  },
  {
   "cell_type": "code",
   "execution_count": 5,
   "id": "7a04cc83",
   "metadata": {},
   "outputs": [
    {
     "name": "stderr",
     "output_type": "stream",
     "text": [
      "[WDM] - Downloading: 100%|████████████████████████████████████████████████████████| 6.78M/6.78M [00:20<00:00, 17.4MB/s]"
     ]
    }
   ],
   "source": [
    "# selenium 4\n",
    "from selenium import webdriver\n",
    "from selenium.webdriver.chrome.service import Service as ChromeService\n",
    "from webdriver_manager.chrome import ChromeDriverManager\n",
    "\n",
    "driver = webdriver.Chrome(service=ChromeService(ChromeDriverManager().install()))"
   ]
  },
  {
   "cell_type": "code",
   "execution_count": 6,
   "id": "46084bdc",
   "metadata": {},
   "outputs": [
    {
     "name": "stdout",
     "output_type": "stream",
     "text": [
      "Scrolled to bottom - moving to product pages.\n"
     ]
    }
   ],
   "source": [
    "# Initiate Chrome Webdriver\n",
    "driver.get(\"https://shop.lululemon.com/c/sale/_/N-1z0xcuuZ8t6\")\n",
    "\n",
    "# Initiate scrolling so that all prodcuts on the page load\n",
    "driver.execute_script(\"window.scrollTo(0, document.body.scrollHeight);\")\n",
    "time.sleep(5)\n",
    "print(\"Scrolled to bottom - moving to product pages.\")"
   ]
  },
  {
   "cell_type": "code",
   "execution_count": null,
   "id": "b2e5166f",
   "metadata": {},
   "outputs": [],
   "source": [
    "//*[@id=\"product-list\"]"
   ]
  },
  {
   "cell_type": "code",
   "execution_count": 14,
   "id": "c8606e64",
   "metadata": {},
   "outputs": [],
   "source": [
    "xpath = '//*[@id=\"product-list\"]//a'"
   ]
  },
  {
   "cell_type": "code",
   "execution_count": 15,
   "id": "d965796f",
   "metadata": {},
   "outputs": [
    {
     "name": "stderr",
     "output_type": "stream",
     "text": [
      "[WDM] - Downloading: 100%|████████████████████████████████████████████████████████| 6.78M/6.78M [16:06<00:00, 7.35kB/s]\n"
     ]
    }
   ],
   "source": [
    "product_urls = [i.get_attribute('href') for i in driver.find_elements(By.XPATH, xpath)]"
   ]
  },
  {
   "cell_type": "code",
   "execution_count": 26,
   "id": "6c14f578",
   "metadata": {},
   "outputs": [],
   "source": [
    "keywords = ['Invigorate', 'womens-leggings']"
   ]
  },
  {
   "cell_type": "code",
   "execution_count": 27,
   "id": "fb77bc19",
   "metadata": {},
   "outputs": [
    {
     "name": "stdout",
     "output_type": "stream",
     "text": [
      "['https://shop.lululemon.com/p/womens-leggings/Invigorate-HR-Tight-25-MD/_/prod9890061?color=36763', 'https://shop.lululemon.com/p/womens-leggings/Invigorate-HR-Tight-25-MD/_/prod9890061', 'https://shop.lululemon.com/p/womens-leggings/Invigorate-HR-Tight-25-MD/_/prod9890061?color=36763']\n"
     ]
    }
   ],
   "source": [
    "product_urls = [link for link in product_urls if link != None]\n",
    "for kw in keywords:\n",
    "    product_urls = [link for link in product_urls if kw in link]\n",
    "print(product_urls)"
   ]
  },
  {
   "cell_type": "code",
   "execution_count": 34,
   "id": "90f06f4c",
   "metadata": {},
   "outputs": [
    {
     "name": "stdout",
     "output_type": "stream",
     "text": [
      "<selenium.webdriver.chrome.webdriver.WebDriver (session=\"f4fb184d5e9c47abe53b53d7c655b06f\")>\n",
      "['0', '2', '4', '10', '12', '14', '28\"']\n",
      "<selenium.webdriver.chrome.webdriver.WebDriver (session=\"f4fb184d5e9c47abe53b53d7c655b06f\")>\n",
      "['0', '2', '4', '10', '12', '14', '28\"']\n",
      "<selenium.webdriver.chrome.webdriver.WebDriver (session=\"f4fb184d5e9c47abe53b53d7c655b06f\")>\n",
      "['0', '2', '4', '10', '12', '14', '28\"']\n"
     ]
    }
   ],
   "source": [
    "for item in product_urls:\n",
    "    driver.get(item)\n",
    "    print(driver)\n",
    "    xpath = './/span[@class=\"sizeTile-bFZ56\"]'\n",
    "    a = [i.get_attribute('innerHTML') for i in driver.find_elements(By.XPATH, xpath)]\n",
    "    print(a)"
   ]
  },
  {
   "cell_type": "code",
   "execution_count": 23,
   "id": "e2a3d650",
   "metadata": {},
   "outputs": [
    {
     "name": "stdout",
     "output_type": "stream",
     "text": [
      "<class 'NoneType'>\n"
     ]
    }
   ],
   "source": [
    "<span class=\"sizeTile-bFZ56\">2</span>"
   ]
  },
  {
   "cell_type": "code",
   "execution_count": 19,
   "id": "1010ddfe",
   "metadata": {},
   "outputs": [
    {
     "data": {
      "text/plain": [
       "333"
      ]
     },
     "execution_count": 19,
     "metadata": {},
     "output_type": "execute_result"
    }
   ],
   "source": [
    "len(product_urls)"
   ]
  }
 ],
 "metadata": {
  "kernelspec": {
   "display_name": "Python 3",
   "language": "python",
   "name": "python3"
  },
  "language_info": {
   "codemirror_mode": {
    "name": "ipython",
    "version": 3
   },
   "file_extension": ".py",
   "mimetype": "text/x-python",
   "name": "python",
   "nbconvert_exporter": "python",
   "pygments_lexer": "ipython3",
   "version": "3.8.8"
  }
 },
 "nbformat": 4,
 "nbformat_minor": 5
}
